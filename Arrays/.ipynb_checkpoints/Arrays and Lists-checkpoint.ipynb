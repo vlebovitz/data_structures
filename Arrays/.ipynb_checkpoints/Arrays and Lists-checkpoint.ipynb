{
 "cells": [
  {
   "cell_type": "code",
   "execution_count": 4,
   "id": "117ce891",
   "metadata": {},
   "outputs": [
    {
     "name": "stdout",
     "output_type": "stream",
     "text": [
      "[10, 2, 5, 2]\n"
     ]
    }
   ],
   "source": [
    "#List Comprehension\n",
    "prev_list = [1,2,3]\n",
    "new_list = [i*2 for i in prev_list]\n",
    "#Conditional List Comprehension\n",
    "prev_list = [-1,10,-20,-5,2,5,2]\n",
    "new_list = [i for i in prev_list if i>0]\n",
    "print(new_list)"
   ]
  },
  {
   "cell_type": "code",
   "execution_count": 13,
   "id": "0ae03150",
   "metadata": {},
   "outputs": [
    {
     "name": "stdout",
     "output_type": "stream",
     "text": [
      "How many day's temperature? 2\n",
      "Day 0's' High Temp: 12\n",
      "Day 1's' High Temp: 23\n",
      "17.5\n"
     ]
    }
   ],
   "source": [
    "def temperatureGauge():\n",
    "    days = int(input(\"How many day's temperature? \"))\n",
    "    sumTemp = 0\n",
    "    for i in range(days):\n",
    "        temp = int(input(\"Day {}'s' High Temp: \".format(i)))\n",
    "        sumTemp += temp\n",
    "    print(sumTemp/days)\n",
    "    \n",
    "\n",
    "if __name__ == \"__main__\":\n",
    "    temperatureGauge()"
   ]
  },
  {
   "cell_type": "code",
   "execution_count": 15,
   "id": "f588e7b4",
   "metadata": {},
   "outputs": [],
   "source": [
    "#Find the Missing Number\n",
    "my_list = [1,2,3,5]\n",
    "n =5\n",
    "def findMissing(array, n):\n",
    "    #Calculate the sum of natural numbers\n",
    "    total = n * (n+1) // 2\n",
    "    #Calculate sum of array\n",
    "    sum_arr = sum(array)\n",
    "    #Determine the missing number\n",
    "    missing = total - sum_arr\n",
    "    return missing"
   ]
  },
  {
   "cell_type": "code",
   "execution_count": 17,
   "id": "267205fc",
   "metadata": {},
   "outputs": [
    {
     "name": "stdout",
     "output_type": "stream",
     "text": [
      "(0, 1)\n"
     ]
    }
   ],
   "source": [
    "#Two Sum: Find All Integer Pairs Such That Add Up To Target\n",
    "def two_sum(nums,target):\n",
    "    hashMap = {}\n",
    "    for i in range(len(nums)):\n",
    "        complement = target - nums[i]\n",
    "        if complement in hashMap:\n",
    "            return hashMap[complement], i\n",
    "        hashMap[nums[i]] = i\n",
    "print(two_sum([2,7,11,15],9))\n",
    "#BRUTE FORCE\n",
    " def findPairs(nums, target):\n",
    "        for i in range(len(nums)):\n",
    "            for j in range(i+1,len(nums)):\n",
    "                if nums[i] == nums[j]:\n",
    "                    continue\n",
    "                elif nums[i]+nums[j] == target:\n",
    "                    return i,j\n",
    "            "
   ]
  },
  {
   "cell_type": "code",
   "execution_count": 18,
   "id": "640114e4",
   "metadata": {},
   "outputs": [
    {
     "name": "stdout",
     "output_type": "stream",
     "text": [
      "63\n"
     ]
    }
   ],
   "source": [
    "#Max Product of Two Largest Integers In Array\n",
    "def max_product(arr):\n",
    "    max1,max2 = 0,0\n",
    "    \n",
    "    for num in arr:\n",
    "        if num > max1:\n",
    "            max2 = max1\n",
    "            max1 = num\n",
    "            \n",
    "        elif num > max2:\n",
    "            max2 = num\n",
    "            \n",
    "    return max1*max2\n",
    "    \n",
    "arr = [1,7,3,4,9,5]\n",
    "print(max_product(arr))"
   ]
  }
 ],
 "metadata": {
  "kernelspec": {
   "display_name": "Python 3 (ipykernel)",
   "language": "python",
   "name": "python3"
  },
  "language_info": {
   "codemirror_mode": {
    "name": "ipython",
    "version": 3
   },
   "file_extension": ".py",
   "mimetype": "text/x-python",
   "name": "python",
   "nbconvert_exporter": "python",
   "pygments_lexer": "ipython3",
   "version": "3.9.12"
  }
 },
 "nbformat": 4,
 "nbformat_minor": 5
}
