{
 "cells": [
  {
   "cell_type": "markdown",
   "id": "e69b81ac",
   "metadata": {},
   "source": [
    "Understand the Theory of Arrays and How They Apply To Datastructures"
   ]
  },
  {
   "cell_type": "code",
   "execution_count": 17,
   "id": "07798842",
   "metadata": {},
   "outputs": [
    {
     "name": "stdout",
     "output_type": "stream",
     "text": [
      "[[11 15 20  6]\n",
      " [12 17 12  8]]\n",
      "12\n"
     ]
    }
   ],
   "source": [
    "#Two-Dimensional Arrays \n",
    "import numpy as np"
   ]
  },
  {
   "cell_type": "code",
   "execution_count": null,
   "id": "8745ca0d",
   "metadata": {},
   "outputs": [],
   "source": [
    "#Accessing An Element\n",
    "twoDArray = np.array([[11,15,20,6],[12,17,12,8]])\n",
    "\n",
    "def accessElements(array, rowIndex, colIndex):\n",
    "    if rowIndex >= len(array) and colIndex >= len(array[0]):\n",
    "        print('Incorrect Index')\n",
    "    else:\n",
    "        print(array[rowIndex][colIndex])\n",
    "\n",
    "print(twoDArray)\n",
    "accessElements(twoDArray,1,2)"
   ]
  },
  {
   "cell_type": "code",
   "execution_count": 19,
   "id": "c2cc95d5",
   "metadata": {},
   "outputs": [
    {
     "name": "stdout",
     "output_type": "stream",
     "text": [
      "New Row\n",
      "11\n",
      "15\n",
      "20\n",
      "6\n",
      "New Row\n",
      "12\n",
      "17\n",
      "12\n",
      "8\n"
     ]
    }
   ],
   "source": [
    "#Traversing a Two-Dimensional Array\n",
    "twoDArray = np.array([[11,15,20,6],[12,17,12,8]])\n",
    "\n",
    "def traverseTDArray(array):\n",
    "    for i in range(len(array)):\n",
    "        for j in range(len(array[0])):\n",
    "            print(array[i][j])\n",
    "\n",
    "traverseTDArray(twoDArray)        "
   ]
  },
  {
   "cell_type": "code",
   "execution_count": null,
   "id": "e600fdfc",
   "metadata": {},
   "outputs": [],
   "source": []
  }
 ],
 "metadata": {
  "kernelspec": {
   "display_name": "Python 3 (ipykernel)",
   "language": "python",
   "name": "python3"
  },
  "language_info": {
   "codemirror_mode": {
    "name": "ipython",
    "version": 3
   },
   "file_extension": ".py",
   "mimetype": "text/x-python",
   "name": "python",
   "nbconvert_exporter": "python",
   "pygments_lexer": "ipython3",
   "version": "3.9.12"
  }
 },
 "nbformat": 4,
 "nbformat_minor": 5
}
