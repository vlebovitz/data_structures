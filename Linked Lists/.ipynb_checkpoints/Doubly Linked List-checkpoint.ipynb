{
 "cells": [
  {
   "cell_type": "code",
   "execution_count": null,
   "id": "0a7f70d3",
   "metadata": {},
   "outputs": [],
   "source": [
    "class Node:\n",
    "    def __init__(self,value,prev=None,next=None):\n",
    "        self.value = value\n",
    "        self.next = next\n",
    "        self.prev = prev\n",
    "class DoublyLinkedList():\n",
    "    def __init__(self,value=None):\n",
    "        self.value = value\n",
    "        if self.value is None:\n",
    "            self.head = self.tail = None\n",
    "            self.length = 0\n",
    "        else:\n",
    "            self.head = self.tail = Node(self.value)\n",
    "            self.length = 1\n",
    "    \n",
    "    def append(self,value):\n",
    "        new_node = Node(value)\n",
    "        self.length += 1\n",
    "        if self.head is None:\n",
    "            self.head = self.tail = new_node\n",
    "            return\n",
    "        self.tail.next = new_node\n",
    "        new_node.prev = self.tail\n",
    "        self.tail = new_node\n",
    "    \n",
    "    def prepend(self,value):\n",
    "        new_node = Node(value)\n",
    "        self.length += 1\n",
    "        if self.head is None:\n",
    "            self.head = self.tail = new_node\n",
    "            return\n",
    "        new_node.next = self.head\n",
    "        self.head.prev = new_node\n",
    "        self.head = new_node\n",
    "    \n",
    "    def reverse_traverse(self):\n",
    "        if self.length == 0:\n",
    "            print(\"Nothing In List\")\n",
    "            return\n",
    "        print(\"Hello\")\n",
    "        curr = self.tail\n",
    "        res = \"\"\n",
    "        while curr:\n",
    "            print(curr.value)\n",
    "            curr = curr.prev\n",
    "            \n",
    "        \n",
    "            \n",
    "    def __str__(self):\n",
    "        res = \"\"\n",
    "        if self.head is None:\n",
    "            return\n",
    "        curr = self.head\n",
    "        while curr:\n",
    "            res += str(curr.value)\n",
    "            if curr.next is not None:\n",
    "                res += \" <-> \"\n",
    "            curr = curr.next\n",
    "        return res\n"
   ]
  },
  {
   "cell_type": "code",
   "execution_count": null,
   "id": "60295e0e",
   "metadata": {},
   "outputs": [],
   "source": [
    "d1 = DoublyLinkedList()\n",
    "d1.append(15)\n",
    "d1.append(100)\n",
    "d1.prepend(14)\n",
    "#print(d1)\n",
    "d1.reverse_traverse()"
   ]
  },
  {
   "cell_type": "code",
   "execution_count": null,
   "id": "f8e6269a",
   "metadata": {},
   "outputs": [],
   "source": []
  }
 ],
 "metadata": {
  "kernelspec": {
   "display_name": "Python 3 (ipykernel)",
   "language": "python",
   "name": "python3"
  },
  "language_info": {
   "codemirror_mode": {
    "name": "ipython",
    "version": 3
   },
   "file_extension": ".py",
   "mimetype": "text/x-python",
   "name": "python",
   "nbconvert_exporter": "python",
   "pygments_lexer": "ipython3",
   "version": "3.9.12"
  }
 },
 "nbformat": 4,
 "nbformat_minor": 5
}
