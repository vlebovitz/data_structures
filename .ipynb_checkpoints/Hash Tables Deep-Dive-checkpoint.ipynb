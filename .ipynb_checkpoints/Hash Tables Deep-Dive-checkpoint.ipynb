{
 "cells": [
  {
   "cell_type": "code",
   "execution_count": 3,
   "id": "a82944c4",
   "metadata": {},
   "outputs": [
    {
     "name": "stdout",
     "output_type": "stream",
     "text": [
      "0 :  None\n",
      "1 :  None\n",
      "2 :  None\n",
      "3 :  None\n",
      "4 :  [['bolts', 1400], ['washers', 50]]\n",
      "5 :  None\n",
      "6 :  [['lumber', 70]]\n",
      "['bolts', 'washers', 'lumber']\n"
     ]
    }
   ],
   "source": [
    "class HashTable:\n",
    "    def __init__(self,size=7):\n",
    "        self.data_map = [None] * size\n",
    "    def __hash(self,key):\n",
    "        my_hash = 0\n",
    "        for letter in key:\n",
    "            my_hash = (my_hash + ord(letter)*23) % len(self.data_map)\n",
    "        return my_hash\n",
    "    def set_item(self,key,value):\n",
    "        index = self.__hash(key)\n",
    "        if self.data_map[index] == None:\n",
    "            self.data_map[index] = []\n",
    "        self.data_map[index].append([key,value])\n",
    "    def get(self,key):\n",
    "        index = self.__hash(key)\n",
    "        if self.data_map[index] is not None:\n",
    "            for i in range(len(self.data_map[index])):\n",
    "                if self.data_map[index][i][0] == key:\n",
    "                    return self.data_map[index][i][1]\n",
    "        return None\n",
    "    def keys(self):\n",
    "        key_list = []\n",
    "        for i in range(len(self.data_map)):\n",
    "            if self.data_map[i] is not None:\n",
    "                for j in range(len(self.data_map[i])):\n",
    "                    key_list.append(self.data_map[i][j][0])\n",
    "        return key_list\n",
    "    def print_table(self):\n",
    "        for i,val in enumerate(self.data_map):\n",
    "            print(i, \": \", val)\n",
    "\n",
    "my_hash_table = HashTable()\n",
    "my_hash_table.set_item('bolts',1400)\n",
    "my_hash_table.set_item('washers',50)\n",
    "my_hash_table.set_item('lumber',70)\n",
    "my_hash_table.print_table()\n",
    "print(my_hash_table.keys())"
   ]
  },
  {
   "cell_type": "code",
   "execution_count": 5,
   "id": "dba1b461",
   "metadata": {},
   "outputs": [
    {
     "name": "stdout",
     "output_type": "stream",
     "text": [
      "False\n"
     ]
    }
   ],
   "source": [
    "def is_duplicate(list1,list2):\n",
    "    hash_map = {}\n",
    "    for i in list1:\n",
    "        hash_map[i] = True\n",
    "    for j in list2:\n",
    "        if j in hash_map:\n",
    "            return True\n",
    "    return False\n",
    "\n",
    "list1 = [1,3,5]\n",
    "list2 = [2,7,4]\n",
    "print(is_duplicate(list1,list2))"
   ]
  },
  {
   "cell_type": "code",
   "execution_count": null,
   "id": "50b432f7",
   "metadata": {},
   "outputs": [],
   "source": []
  }
 ],
 "metadata": {
  "kernelspec": {
   "display_name": "Python 3 (ipykernel)",
   "language": "python",
   "name": "python3"
  },
  "language_info": {
   "codemirror_mode": {
    "name": "ipython",
    "version": 3
   },
   "file_extension": ".py",
   "mimetype": "text/x-python",
   "name": "python",
   "nbconvert_exporter": "python",
   "pygments_lexer": "ipython3",
   "version": "3.9.12"
  }
 },
 "nbformat": 4,
 "nbformat_minor": 5
}
