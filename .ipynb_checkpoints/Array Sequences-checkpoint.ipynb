{
 "cells": [
  {
   "cell_type": "markdown",
   "id": "464fab9e",
   "metadata": {},
   "source": [
    "##Arrays\n",
    "\n",
    "Low Level Computer Architecture\n",
    " - Representation of Computer Memory\n",
    " - Retrieve bytes of memory in O(1) time\n",
    " - Each cell of array must use the same bytes\n",
    " - Appropriate memory address can be computed -> \n",
    "         start + (cellsize)(index)\n",
    " - lists are dynamic in python; usually has a greater capacity values you initiated occuring in chunks\n",
    "         \n",
    "Referential Arrays\n",
    " - single list instance may include multiple reference to same objects ass elements of list\n",
    " - when computing a slice the result is a new list\n",
    " \n",
    " "
   ]
  },
  {
   "cell_type": "markdown",
   "id": "30ccc515",
   "metadata": {},
   "source": [
    "# Dynamic Array Implementation\n",
    "\n",
    " 1. Create new array B 2. Store elements of A  3. Reassign reference A to the new array\n",
    " -New Array should have double the size of the previous array"
   ]
  },
  {
   "cell_type": "code",
   "execution_count": 3,
   "id": "4faf174c",
   "metadata": {},
   "outputs": [],
   "source": [
    "import ctypes\n",
    "\n",
    "class DynamicArray(object):\n",
    "    \n",
    "    def __init__(self):\n",
    "        self.n = 0\n",
    "        self.capacity = 1\n",
    "        self.A = self.make_array(self.capacity)\n",
    "    \n",
    "    def __len__(self):\n",
    "        return self.n\n",
    "    \n",
    "    def __getitem__(self,k):\n",
    "        if not 0 <= k < self.n:\n",
    "            return IndexError('K is out of bounds')\n",
    "        return self.A[k]\n",
    "    \n",
    "    def append(self,ele):\n",
    "        if self.n == self.capacity:\n",
    "            self._resize(2*self.capacity) #2x if capacity isn't enough\n",
    "            \n",
    "        self.A[self.n] = ele\n",
    "        self.n += 1\n",
    "    \n",
    "    def _resize(self,new_cap):\n",
    "        B = self.make_array(new_cap)\n",
    "        \n",
    "        for k in range(self.n):\n",
    "            B[k] = self.A[k]\n",
    "            \n",
    "        self.A = B\n",
    "        self.capacity = new_cap\n",
    "    \n",
    "    def make_array(self, new_cap):\n",
    "        return (new_cap * ctypes.py_object)()\n",
    "            \n"
   ]
  },
  {
   "cell_type": "code",
   "execution_count": 12,
   "id": "17e23011",
   "metadata": {},
   "outputs": [
    {
     "data": {
      "text/plain": [
       "1"
      ]
     },
     "execution_count": 12,
     "metadata": {},
     "output_type": "execute_result"
    }
   ],
   "source": [
    "arr= DynamicArray()\n",
    "arr.append(1)\n",
    "len(arr)"
   ]
  },
  {
   "cell_type": "markdown",
   "id": "99e527cf",
   "metadata": {},
   "source": [
    "# Interview Problems"
   ]
  },
  {
   "cell_type": "code",
   "execution_count": 46,
   "id": "79e50079",
   "metadata": {},
   "outputs": [],
   "source": [
    "#Anagram Check\n",
    "    # - given two strings check to see if they are anagrams; use the exact same count of letteres\n",
    "    \n",
    "def anagram(s1,s2):\n",
    "    \n",
    "    tMap,sMap = {},{}\n",
    "    s1 = s1.replace(' ','').lower()\n",
    "    s2 = s2.replace(' ','').lower()\n",
    "    \n",
    "    # Edge Case Check\n",
    "    if len(s1) != len(s2):\n",
    "        return False\n",
    "    \n",
    "    count = {}\n",
    "    for letter in s1:\n",
    "        if letter in count:\n",
    "            count[letter] += 1\n",
    "        else:\n",
    "            count[letter] = 1\n",
    "    for letter in s2:\n",
    "        if letter in count:\n",
    "            count[letter] -= 1\n",
    "        else:\n",
    "            count[letter] = 1\n",
    "    \n",
    "    for k in count:\n",
    "        if count[k] != 0:\n",
    "            return False\n",
    "    return True\n",
    "        \n",
    "    \n",
    "    \n",
    "        \n",
    "        "
   ]
  },
  {
   "cell_type": "code",
   "execution_count": 47,
   "id": "a37f1d0d",
   "metadata": {},
   "outputs": [
    {
     "name": "stdout",
     "output_type": "stream",
     "text": [
      "True\n"
     ]
    }
   ],
   "source": [
    "print(anagram('dog','god'))"
   ]
  },
  {
   "cell_type": "code",
   "execution_count": 13,
   "id": "40ff523f",
   "metadata": {},
   "outputs": [],
   "source": [
    "# Array Pair Sum\n",
    " #-Given an integer array output all unique pairs that sum up to value k\n",
    "\n",
    "def pair_sum(arr,k):\n",
    "    if len(arr) < 2:\n",
    "        return\n",
    "    \n",
    "    #Sets for tracking\n",
    "    seen = set()\n",
    "    output = set()\n",
    "    \n",
    "    for num in arr:\n",
    "        target = k-num\n",
    "        \n",
    "        if target not in seen:\n",
    "            seen.add(num)\n",
    "        else:\n",
    "            output.add( ((min(num,target)), max(num,target)) )\n",
    "    #return len(output)\n",
    "    print('\\n'.join(map(str,list(output))))"
   ]
  },
  {
   "cell_type": "code",
   "execution_count": 14,
   "id": "8bb0f1ea",
   "metadata": {},
   "outputs": [
    {
     "name": "stdout",
     "output_type": "stream",
     "text": [
      "(1, 3)\n",
      "(2, 2)\n"
     ]
    }
   ],
   "source": [
    "pair_sum([1,3,2,2],4)"
   ]
  },
  {
   "cell_type": "code",
   "execution_count": 42,
   "id": "c94f076e",
   "metadata": {},
   "outputs": [],
   "source": [
    "def pair_sum(arr,k):\n",
    "    \n",
    "    seen = set()\n",
    "    output = set()\n",
    "    for num in arr:\n",
    "        target = k - num\n",
    "        if target not in seen:\n",
    "            seen.add(num)\n",
    "        else:\n",
    "            output.add( (min(target,num), max(target,num)) )\n",
    "    return output"
   ]
  },
  {
   "cell_type": "markdown",
   "id": "01fa2cde",
   "metadata": {},
   "source": [
    "# Find the Missing Element"
   ]
  },
  {
   "cell_type": "code",
   "execution_count": 31,
   "id": "7b2c5559",
   "metadata": {},
   "outputs": [],
   "source": [
    "import collections\n",
    "def finder(arr1,arr2):\n",
    "    hashMap = collections.defaultdict(int)\n",
    "    for num in arr2:\n",
    "        hashMap[num] +=1\n",
    "    for num in arr1:\n",
    "        if hashMap[num] == 0:\n",
    "            return num\n",
    "        hashMap[num] -=1"
   ]
  },
  {
   "cell_type": "code",
   "execution_count": null,
   "id": "1fb10362",
   "metadata": {},
   "outputs": [],
   "source": [
    "print(finder([1,3,4,5,2],[1,3,4,2]))"
   ]
  },
  {
   "cell_type": "code",
   "execution_count": null,
   "id": "5ce7a4b9",
   "metadata": {},
   "outputs": [],
   "source": [
    "import collections\n",
    "def finder(arr1,arr2):\n",
    "    hashMap = collections\n",
    "    \n",
    "    for num in arr2:\n",
    "        hashMap[num] += 1\n",
    "    for num in arr1:\n",
    "        if hashMap[num] == 0:\n",
    "            return num\n",
    "        hashMap[num] -= 1"
   ]
  },
  {
   "cell_type": "code",
   "execution_count": 37,
   "id": "10fe4fd5",
   "metadata": {},
   "outputs": [],
   "source": [
    "#Solve using XOR (exclusive or)\n",
    "def finder3(arr1,arr2):\n",
    "    result=0\n",
    "    for num in arr1+arr2:\n",
    "        print(num)\n",
    "        result^=num\n",
    "        #print(result)\n",
    "    return result"
   ]
  },
  {
   "cell_type": "code",
   "execution_count": 35,
   "id": "f16f0ea9",
   "metadata": {},
   "outputs": [
    {
     "name": "stdout",
     "output_type": "stream",
     "text": [
      "1\n",
      "2\n",
      "6\n",
      "3\n",
      "1\n",
      "0\n",
      "3\n",
      "7\n",
      "5\n",
      "5\n"
     ]
    }
   ],
   "source": [
    "print(finder3([1,3,4,5,2],[1,3,4,2]))"
   ]
  },
  {
   "cell_type": "markdown",
   "id": "8052c6f1",
   "metadata": {},
   "source": [
    "# Largest Continous Sum"
   ]
  },
  {
   "cell_type": "code",
   "execution_count": 38,
   "id": "12068052",
   "metadata": {},
   "outputs": [],
   "source": [
    "#Given an array of integers (positive and negative), find the largest continous sum\n",
    "def continous_sum(arr):\n",
    "    res = 0\n",
    "    if len(arr) == 0:\n",
    "        return 0\n",
    "    \n",
    "    max_sum = current_sum = arr[0]\n",
    "    \n",
    "    for num in arr[1:]:\n",
    "        current_sum = max(current_sum+num,num)\n",
    "        max_sum = max(current_sum,max_sum)\n",
    "    return max_sum\n",
    "        \n",
    "    "
   ]
  },
  {
   "cell_type": "code",
   "execution_count": null,
   "id": "64522b89",
   "metadata": {},
   "outputs": [],
   "source": [
    "large_cont_sum([1,2,-1,3,4,10,10,-10,-1])"
   ]
  },
  {
   "cell_type": "markdown",
   "id": "a3742e7d",
   "metadata": {},
   "source": [
    "# String Reversal"
   ]
  },
  {
   "cell_type": "code",
   "execution_count": null,
   "id": "62f35bd1",
   "metadata": {},
   "outputs": [],
   "source": []
  }
 ],
 "metadata": {
  "kernelspec": {
   "display_name": "Python 3 (ipykernel)",
   "language": "python",
   "name": "python3"
  },
  "language_info": {
   "codemirror_mode": {
    "name": "ipython",
    "version": 3
   },
   "file_extension": ".py",
   "mimetype": "text/x-python",
   "name": "python",
   "nbconvert_exporter": "python",
   "pygments_lexer": "ipython3",
   "version": "3.9.12"
  }
 },
 "nbformat": 4,
 "nbformat_minor": 5
}
