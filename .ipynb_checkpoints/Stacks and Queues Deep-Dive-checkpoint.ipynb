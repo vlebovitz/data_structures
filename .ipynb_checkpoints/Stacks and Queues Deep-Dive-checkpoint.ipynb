{
 "cells": [
  {
   "cell_type": "markdown",
   "id": "bedd2f7e",
   "metadata": {},
   "source": [
    "#  Stack Implementation"
   ]
  },
  {
   "cell_type": "code",
   "execution_count": 6,
   "id": "9e8b36f1",
   "metadata": {},
   "outputs": [
    {
     "name": "stdout",
     "output_type": "stream",
     "text": [
      "13 -> "
     ]
    }
   ],
   "source": [
    "# List Implementation\n",
    "class Stack:\n",
    "    def __init__(self):\n",
    "        self.stack = []\n",
    "        self.length = 0\n",
    "    def push(self,value):\n",
    "        self.length += 1\n",
    "        self.stack.append(value)\n",
    "    def pop(self):\n",
    "        self.stack.pop()\n",
    "    def print_stack(self):\n",
    "        for i in self.stack:\n",
    "            print(i,end=\" -> \")\n",
    "s1 = Stack()\n",
    "s1.push(13)\n",
    "s1.push(15)\n",
    "s1.pop()\n",
    "s1.print_stack()\n",
    "    "
   ]
  },
  {
   "cell_type": "code",
   "execution_count": 8,
   "id": "a34b0520",
   "metadata": {},
   "outputs": [
    {
     "data": {
      "text/plain": [
       "'10 -> 4 -> 2 -> 12'"
      ]
     },
     "execution_count": 8,
     "metadata": {},
     "output_type": "execute_result"
    }
   ],
   "source": [
    "#Linked List Implementation\n",
    "class Node:\n",
    "    def __init__(self,value):\n",
    "        self.value = value\n",
    "        self.next = None\n",
    "class Stack:\n",
    "    def __init__(self,value):\n",
    "        self.top = Node(value)\n",
    "        self.height = 1\n",
    "    def print_stack(self):\n",
    "        res = ''\n",
    "        curr = self.top\n",
    "        while curr:\n",
    "            if curr.next is None:\n",
    "                res += str(curr.value)\n",
    "            else:\n",
    "                res += str(curr.value) + \" -> \"\n",
    "            curr = curr.next\n",
    "        return res\n",
    "    def push(self,new_value):\n",
    "        new_node = Node(new_value)\n",
    "        if self.height < 1:\n",
    "            self.top = new_node\n",
    "        else:\n",
    "            new_node.next = self.top\n",
    "            self.top = new_node\n",
    "        self.height += 1\n",
    "    def pop(self):\n",
    "        if self.height < 1:\n",
    "            return\n",
    "        self.height -= 1\n",
    "        temp = self.top\n",
    "        self.top = self.top.next\n",
    "        temp.next = None\n",
    "        return temp\n",
    "\n",
    "        \n",
    "s1 = Stack(12)\n",
    "s1.push(2)\n",
    "s1.push(4)\n",
    "s1.push(10)\n",
    "s1.push(8)\n",
    "s1.print_stack()\n",
    "popped_node = s1.pop()\n",
    "s1.print_stack()"
   ]
  },
  {
   "cell_type": "markdown",
   "id": "60c3c325",
   "metadata": {},
   "source": [
    "# Queue Implementation"
   ]
  },
  {
   "cell_type": "code",
   "execution_count": null,
   "id": "625fff8e",
   "metadata": {},
   "outputs": [],
   "source": [
    "#Linked List Implementation\n",
    "class Node:\n",
    "    def __init__(self,value):\n",
    "        self.value = value\n",
    "        self.next = None\n",
    "class Queue:\n",
    "    def __init__(self,value):\n",
    "        self.top = Node(value)\n",
    "        self.height = 1\n",
    "    def enqueue(self,new_value):\n",
    "        new_node = Node(new_value)\n",
    "        if self.height < 1:\n",
    "            self.top = new_node\n",
    "        else:\n",
    "            curr = self.top\n",
    "            while curr.next:\n",
    "                curr = curr.next\n",
    "            curr.next = new_node\n",
    "        self.height += 1\n",
    "    def dequeue(self):\n",
    "        if self.height < 1:\n",
    "            return\n",
    "        temp = self.top\n",
    "        self.top = self.top.next\n",
    "        temp.next = None\n",
    "        self.height -= 1\n",
    "        return temp\n",
    "s1"
   ]
  }
 ],
 "metadata": {
  "kernelspec": {
   "display_name": "Python 3 (ipykernel)",
   "language": "python",
   "name": "python3"
  },
  "language_info": {
   "codemirror_mode": {
    "name": "ipython",
    "version": 3
   },
   "file_extension": ".py",
   "mimetype": "text/x-python",
   "name": "python",
   "nbconvert_exporter": "python",
   "pygments_lexer": "ipython3",
   "version": "3.9.12"
  }
 },
 "nbformat": 4,
 "nbformat_minor": 5
}
