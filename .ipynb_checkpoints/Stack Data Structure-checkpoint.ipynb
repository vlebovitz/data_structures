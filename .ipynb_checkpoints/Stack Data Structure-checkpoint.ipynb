{
 "cells": [
  {
   "cell_type": "markdown",
   "id": "f219c321",
   "metadata": {},
   "source": [
    "# Stack Data Structure Implementation"
   ]
  },
  {
   "cell_type": "markdown",
   "id": "9e9c4304",
   "metadata": {},
   "source": [
    "- LIFO last in first out\n",
    "- push() push the value onto the stack \n",
    "- pop() pop the item off the stack\n",
    "- peek() peek at the top item\n",
    "- isEmpty() check if stack is empty"
   ]
  },
  {
   "cell_type": "code",
   "execution_count": 3,
   "id": "ea4d3ef6",
   "metadata": {},
   "outputs": [
    {
     "name": "stdout",
     "output_type": "stream",
     "text": [
      "['A', 'B']\n",
      "['A']\n"
     ]
    }
   ],
   "source": [
    "# Implement a Stack DSA in Python\n",
    "# Utilizing a list \n",
    "class Stack():\n",
    "    def __init__(self):\n",
    "        self.items = []\n",
    "        \n",
    "    def push(self, item):\n",
    "        self.items.append(item)\n",
    "    \n",
    "    def pop(self):\n",
    "        return self.items.pop()\n",
    "    \n",
    "    def isEmpty(self):\n",
    "        return self.items == []\n",
    "    \n",
    "    def get_stack(self):\n",
    "        return self.items\n",
    "    \n",
    "    def peek(self):\n",
    "        return self.items[-1]\n",
    "    \n",
    "s = Stack()\n",
    "s.push(\"A\")\n",
    "s.push(\"B\")\n",
    "print(s.get_stack())\n",
    "s.pop()\n",
    "print(s.get_stack())"
   ]
  },
  {
   "cell_type": "code",
   "execution_count": null,
   "id": "aa26bda5",
   "metadata": {},
   "outputs": [],
   "source": [
    "# Implement a Stack DSA in Python\n",
    "# Utilizing a Linked List\n",
    "\n",
    "class Node:\n",
    "    def __init__(self, value, prev=None):\n",
    "        self.value = value\n",
    "        self.prev = prev\n",
    "class Stack:\n",
    "    def __init__(self,value=None):\n",
    "        self.value = value\n",
    "        if value is not None:\n",
    "            self.length = 1\n",
    "            self.head = Node(self.value)\n",
    "        else:\n",
    "            self.length = 0\n",
    "            self.head = None\n",
    "    def push(self,new_value):\n",
    "        node = Node(new_value)\n",
    "        self.length += 1\n",
    "        if self.head is None:\n",
    "            self.head = node\n",
    "            return\n",
    "        node.prev = self.head\n",
    "        self.head = node\n",
    "    \n",
    "    def pop(self):\n",
    "        if self.head is None:\n",
    "            return None\n",
    "        self.length -= 1\n",
    "        temp = self.head\n",
    "        self.head = self.head.prev\n",
    "        temp.prev = None\n",
    "        return temp.value\n",
    "    def peek(self):\n",
    "        return self.head.value\n",
    "    def isEmpty(self):\n",
    "        if (self.length == 0):\n",
    "            return True\n",
    "        return False\n",
    "    \n",
    "    def stringify(self):\n",
    "        if(self.length == 0):\n",
    "            return\n",
    "        curr = self.head\n",
    "        res = \"\"\n",
    "        while(curr):\n",
    "            res += \"<-\" + str(curr.value)\n",
    "            curr = curr.prev\n",
    "        return res"
   ]
  },
  {
   "cell_type": "code",
   "execution_count": null,
   "id": "d9d76d06",
   "metadata": {},
   "outputs": [],
   "source": [
    "s1 = Stack(12)\n",
    "s1.peek()\n",
    "s1.push(14)\n",
    "print(s1.stringify())\n",
    "s1.pop()\n",
    "s1.pop()\n",
    "print(s1.stringify())\n",
    "s1.push(14)\n",
    "print(s1.stringify())\n"
   ]
  },
  {
   "cell_type": "markdown",
   "id": "4157eedd",
   "metadata": {},
   "source": [
    "## Implement a Stack Structure"
   ]
  },
  {
   "cell_type": "code",
   "execution_count": 12,
   "id": "296251a4",
   "metadata": {},
   "outputs": [
    {
     "name": "stdout",
     "output_type": "stream",
     "text": [
      " <- 13\n",
      " <- 15 <- 13\n",
      " <- 21 <- 15 <- 13\n"
     ]
    }
   ],
   "source": [
    "class Node:\n",
    "    def __init__(self,value,prev=None):\n",
    "        self.value = value\n",
    "        self.prev = prev\n",
    "class Stack:\n",
    "    def __init__(self,value=None):\n",
    "        self.value = value\n",
    "        if self.value is None:\n",
    "            self.head = None\n",
    "        else:\n",
    "            self.head = Node(self.value)\n",
    "            \n",
    "    def stringify(self):\n",
    "        result = \"\"\n",
    "        curr = self.head\n",
    "        while (curr):\n",
    "            result += \" <- \" + str(curr.value)\n",
    "            curr = curr.prev\n",
    "        return result\n",
    "    \n",
    "    def push(self,new_value):\n",
    "        node = Node(new_value)\n",
    "        \n",
    "        if self.head is None:\n",
    "            self.head = node\n",
    "            return\n",
    "        node.prev = self.head\n",
    "        self.head = node\n",
    "    \n",
    "    def pop(self):\n",
    "        if self.head is None:\n",
    "            return\n",
    "        tmp = self.head\n",
    "        self.head = self.head.prev\n",
    "        tmp = None\n",
    "    \n",
    "    def peek(self):\n",
    "        return self.head.value\n",
    "\n",
    "if __name__ == \"__main__\":\n",
    "    s1 = Stack(13)\n",
    "    print(s1.stringify())\n",
    "    s1.push(15)\n",
    "    print(s1.stringify())\n",
    "    s1.push(21)\n",
    "    print(s1.stringify())\n",
    "    s1.pop()\n",
    "    \n",
    "    "
   ]
  },
  {
   "cell_type": "code",
   "execution_count": null,
   "id": "edc951d1",
   "metadata": {},
   "outputs": [],
   "source": []
  }
 ],
 "metadata": {
  "kernelspec": {
   "display_name": "Python 3 (ipykernel)",
   "language": "python",
   "name": "python3"
  },
  "language_info": {
   "codemirror_mode": {
    "name": "ipython",
    "version": 3
   },
   "file_extension": ".py",
   "mimetype": "text/x-python",
   "name": "python",
   "nbconvert_exporter": "python",
   "pygments_lexer": "ipython3",
   "version": "3.9.12"
  }
 },
 "nbformat": 4,
 "nbformat_minor": 5
}
