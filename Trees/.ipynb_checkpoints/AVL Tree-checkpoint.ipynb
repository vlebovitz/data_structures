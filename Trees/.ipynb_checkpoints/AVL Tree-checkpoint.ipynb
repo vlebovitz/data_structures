{
 "cells": [
  {
   "cell_type": "markdown",
   "id": "75bf549f",
   "metadata": {},
   "source": [
    "# AVL Trees\n",
    "    - Self-balancing BST where difference in heights cannot be more than one for all nodes\n",
    "    - Rebalancing done to restore AVL (called rotation) if heights of left and right subtree differ more than one"
   ]
  },
  {
   "cell_type": "code",
   "execution_count": null,
   "id": "27da4a19",
   "metadata": {},
   "outputs": [],
   "source": [
    "class AVL():\n",
    "    def __init__(self,data=None):\n",
    "        self.data = data\n",
    "        self.leftChild = None\n",
    "        self.rightChild = None"
   ]
  }
 ],
 "metadata": {
  "kernelspec": {
   "display_name": "Python 3 (ipykernel)",
   "language": "python",
   "name": "python3"
  },
  "language_info": {
   "codemirror_mode": {
    "name": "ipython",
    "version": 3
   },
   "file_extension": ".py",
   "mimetype": "text/x-python",
   "name": "python",
   "nbconvert_exporter": "python",
   "pygments_lexer": "ipython3",
   "version": "3.9.12"
  }
 },
 "nbformat": 4,
 "nbformat_minor": 5
}
