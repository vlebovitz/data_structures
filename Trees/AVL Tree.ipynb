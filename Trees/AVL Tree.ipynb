{
 "cells": [
  {
   "cell_type": "markdown",
   "id": "8427e706",
   "metadata": {},
   "source": [
    "# AVL Trees\n",
    "    - Self-balancing BST where difference in heights cannot be more than one for all nodes\n",
    "    - Rebalancing done to restore AVL (called rotation) if heights of left and right subtree differ more than one"
   ]
  },
  {
   "cell_type": "code",
   "execution_count": 10,
   "id": "260ffe20",
   "metadata": {},
   "outputs": [],
   "source": [
    "class AVL():\n",
    "    def __init__(self,data=None):\n",
    "        self.data = data\n",
    "        self.leftChild = None\n",
    "        self.rightChild = None\n",
    "        #help in finding if tree balanced\n",
    "        self.height = 1\n",
    "\n",
    "def preOrderTraversal(rootNode):\n",
    "    if not rootNode:\n",
    "        return\n",
    "    print(rootNode.data)\n",
    "    preOrderTraversal(rootNode.leftChild)\n",
    "    preOrderTraversal(rootNode.rightChild)\n",
    "def inOrderTraversal(rootNode):\n",
    "    if not rootNode:\n",
    "        return\n",
    "    preOrderTraversal(rootNode.leftChild)\n",
    "    print(rootNode.data)\n",
    "    preOrderTraversal(rootNode.rightChild)\n",
    "    \n",
    "def search_node(rootNode,value):\n",
    "    if rootNode.data == value:\n",
    "        return \"Success\"\n",
    "    elif value < rootNode.data:\n",
    "        if rootNode.leftChild.data == value:\n",
    "            return \"Success\"\n",
    "        else:\n",
    "            search_node(rootNode.leftChild,value)\n",
    "    elif value > rootNode.data:\n",
    "        if rootNode.rightChild.data == value:\n",
    "            return \"Success\"\n",
    "        else:\n",
    "            search_node(rootNode.rightChild,value)\n",
    "    \n",
    "\n",
    "    \n",
    "        \n",
    "    \n",
    "    \n",
    "    "
   ]
  },
  {
   "cell_type": "code",
   "execution_count": 9,
   "id": "f9897330",
   "metadata": {},
   "outputs": [
    {
     "name": "stdout",
     "output_type": "stream",
     "text": [
      "10\n"
     ]
    }
   ],
   "source": [
    "newAVL = AVL(10)\n",
    "preOrderTraversal(newAVL)"
   ]
  }
 ],
 "metadata": {
  "kernelspec": {
   "display_name": "Python 3 (ipykernel)",
   "language": "python",
   "name": "python3"
  },
  "language_info": {
   "codemirror_mode": {
    "name": "ipython",
    "version": 3
   },
   "file_extension": ".py",
   "mimetype": "text/x-python",
   "name": "python",
   "nbconvert_exporter": "python",
   "pygments_lexer": "ipython3",
   "version": "3.9.12"
  }
 },
 "nbformat": 4,
 "nbformat_minor": 5
}
