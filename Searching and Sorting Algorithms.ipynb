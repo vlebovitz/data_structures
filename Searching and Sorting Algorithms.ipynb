{
 "cells": [
  {
   "cell_type": "markdown",
   "id": "d52ea33d",
   "metadata": {},
   "source": [
    "# Searching/Sorting Algorithms"
   ]
  },
  {
   "cell_type": "markdown",
   "id": "a8594bab",
   "metadata": {},
   "source": [
    "## Binary & Search Implementation\n",
    "\n",
    "- linear seach iterates through the array and identifies needle\n",
    "- binary search starts at middle of array does a >< comparison and moves to appropriate half of array"
   ]
  },
  {
   "cell_type": "code",
   "execution_count": 42,
   "id": "b1fb9789",
   "metadata": {},
   "outputs": [
    {
     "name": "stdout",
     "output_type": "stream",
     "text": [
      "Number found at index -1 using linear search\n",
      "Number found at index -1 using binary search\n",
      "Number found at index -1 using binary recursive search\n"
     ]
    }
   ],
   "source": [
    "import math\n",
    "def linear_search(arr, target):\n",
    "    for i in range(len(arr)):\n",
    "        if arr[i] == target:\n",
    "            return i\n",
    "    return -1\n",
    "\n",
    "def binary_search(arr,target):\n",
    "    lo,hi = 0,len(arr)-1\n",
    "    \n",
    "    while(lo<=hi):\n",
    "        mid = (lo+hi)//2\n",
    "        if target < arr[mid]:\n",
    "            hi = mid-1\n",
    "            \n",
    "        elif target > arr[mid]:\n",
    "            lo = mid+1\n",
    "        else:\n",
    "            return mid\n",
    "    return -1\n",
    "\n",
    "def binary_search_recursive(arr,target,lo,hi):\n",
    "    #Corner Cases\n",
    "    if hi < lo:\n",
    "        return -1\n",
    "    mid = (lo+hi)//2\n",
    "    if mid >= len(arr) or mid < 0:\n",
    "        return -1\n",
    "    \n",
    "    if arr[mid] == target:\n",
    "        return mid\n",
    "    \n",
    "    if target < arr[mid]:\n",
    "        hi = mid-1\n",
    "    else:\n",
    "        lo = mid+1\n",
    "    return binary_search_recursive(arr,target,lo,hi)\n",
    "    \n",
    "if __name__ == \"__main__\":\n",
    "    arr = [1,3,4,5,6,7,8,12]\n",
    "    target = 800\n",
    "    \n",
    "    index = linear_search(arr,target)\n",
    "    response = binary_search(arr,target)\n",
    "    response2 = binary_search_recursive(arr,target,0,len(arr))\n",
    "    print(f\"Number found at index {index} using linear search\")\n",
    "    print(f\"Number found at index {response} using binary search\")\n",
    "    print(f\"Number found at index {response2} using binary recursive search\")"
   ]
  },
  {
   "cell_type": "code",
   "execution_count": 57,
   "id": "d463248b",
   "metadata": {},
   "outputs": [
    {
     "name": "stdout",
     "output_type": "stream",
     "text": [
      "Target Found\n",
      "5 6 7 "
     ]
    }
   ],
   "source": [
    "def practice_solution(arr, target):\n",
    "    \n",
    "    for i in range(len(arr)):\n",
    "        if arr[i] == target:\n",
    "            print('Target Found')\n",
    "            while(arr[i] == target):\n",
    "                print(i, end= \" \")\n",
    "                i +=1\n",
    "            break\n",
    "                \n",
    "practice_solution([1,4,6,9,11,15,15,15,17,21,34,34,56],15)\n",
    "    \n",
    "    "
   ]
  },
  {
   "cell_type": "markdown",
   "id": "276246df",
   "metadata": {},
   "source": [
    "## Bubbble Sort Implementation\n",
    " - can be used to sort strings as well\n",
    " - bubble sort iterates through the array multiple times comparing the current and next to swap "
   ]
  },
  {
   "cell_type": "code",
   "execution_count": 62,
   "id": "1533d0a1",
   "metadata": {},
   "outputs": [
    {
     "name": "stdout",
     "output_type": "stream",
     "text": [
      "[1, 2, 5, 9, 34, 34, 67, 88]\n"
     ]
    }
   ],
   "source": [
    "def bubble_sort(arr):\n",
    "    size = len(elements)\n",
    "    \n",
    "    for i in range(size-1):\n",
    "        swapped = False\n",
    "        for j in range(size-1-i):\n",
    "            if elements[j] > elements[j+1]:\n",
    "                temp = elements[j]\n",
    "                elements[j] = elements[j+1]\n",
    "                elements[j+1] = temp\n",
    "                swapped = True\n",
    "        if not swapped:\n",
    "            break\n",
    "    \n",
    "\n",
    "if __name__ == \"__main__\":\n",
    "    elements = [5,9,2,1,67,34,88,34]\n",
    "    bubble_sort(elements)\n",
    "    print(elements)"
   ]
  },
  {
   "cell_type": "code",
   "execution_count": 87,
   "id": "368f78fe",
   "metadata": {},
   "outputs": [
    {
     "name": "stdout",
     "output_type": "stream",
     "text": [
      "[{'name': 'kathy', 'transaction_amount': 200, 'device': 'vivo'}, {'name': 'dhaval', 'transaction_amount': 400, 'device': 'google pixel'}, {'name': 'aamir', 'transaction_amount': 800, 'device': 'iphone-8'}, {'name': 'mona', 'transaction_amount': 1000, 'device': 'iphone-10'}]\n"
     ]
    }
   ],
   "source": [
    "#Coding Exercise\n",
    "def bubble_sort(elements,key):\n",
    "    size = len(elements)\n",
    "    for i in range(size-1):\n",
    "        swapped=False\n",
    "        for j in range(size-1-i):\n",
    "            a = elements[j][key]\n",
    "            b = elements[j+1][key]\n",
    "            if a > b:\n",
    "                tmp = elements[j]\n",
    "                elements[j] = elements[j+1]\n",
    "                elements[j+1] = tmp\n",
    "                swapped = True\n",
    "        if not swapped:\n",
    "            break\n",
    "\n",
    "if __name__ == \"__main__\":\n",
    "    elements = [\n",
    "        { 'name': 'mona',   'transaction_amount': 1000, 'device': 'iphone-10'},\n",
    "        { 'name': 'dhaval', 'transaction_amount': 400,  'device': 'google pixel'},\n",
    "        { 'name': 'kathy',  'transaction_amount': 200,  'device': 'vivo'},\n",
    "        { 'name': 'aamir',  'transaction_amount': 800,  'device': 'iphone-8'},\n",
    "    ]\n",
    "    bubble_sort(elements,'transaction_amount')\n",
    "    print(elements)\n",
    "    "
   ]
  },
  {
   "cell_type": "markdown",
   "id": "1e846882",
   "metadata": {},
   "source": [
    "## Quick Sort Implementation\n",
    "\n",
    "- Quick Sort creates a partition function and then passing the left and right of the partition through a sorting function"
   ]
  },
  {
   "cell_type": "code",
   "execution_count": 97,
   "id": "f841dac4",
   "metadata": {},
   "outputs": [
    {
     "name": "stdout",
     "output_type": "stream",
     "text": [
      "[2, 7, 9, 11, 15, 28, 29]\n",
      "sorted array: [2, 7, 9, 11, 15, 28, 29]\n",
      "sorted array: [3, 7, 9, 11]\n",
      "sorted array: [10, 21, 22, 25]\n",
      "sorted array: [15, 28, 29]\n",
      "sorted array: []\n",
      "sorted array: [6]\n"
     ]
    }
   ],
   "source": [
    "#Hoare Partition\n",
    "def swap(a, b, arr):\n",
    "    if a!=b:\n",
    "        tmp = arr[a]\n",
    "        arr[a] = arr[b]\n",
    "        arr[b] = tmp\n",
    "\n",
    "def quick_sort(elements, start, end):\n",
    "    if start < end:\n",
    "        pi = partition(elements, start, end)\n",
    "        #left partition\n",
    "        quick_sort(elements, start, pi-1)\n",
    "        #right partition\n",
    "        quick_sort(elements, pi+1, end)\n",
    "\n",
    "def partition(elements, start, end):\n",
    "    pivot_index = start\n",
    "    pivot = elements[pivot_index]\n",
    "\n",
    "    while start < end:\n",
    "        while start < len(elements) and elements[start] <= pivot:\n",
    "            start+=1\n",
    "\n",
    "        while elements[end] > pivot:\n",
    "            end-=1\n",
    "\n",
    "        if start < end:\n",
    "            swap(start, end, elements)\n",
    "\n",
    "    swap(pivot_index, end, elements)\n",
    "\n",
    "    return end\n",
    "\n",
    "if __name__ == '__main__':\n",
    "    elements = [11,9,29,7,2,15,28]\n",
    "    # elements = [\"mona\", \"dhaval\", \"aamir\", \"tina\", \"chang\"]\n",
    "    quick_sort(elements, 0, len(elements)-1)\n",
    "    print(elements)\n",
    "\n",
    "    tests = [\n",
    "        [11,9,29,7,2,15,28],\n",
    "        [3, 7, 9, 11],\n",
    "        [25, 22, 21, 10],\n",
    "        [29, 15, 28],\n",
    "        [],\n",
    "        [6]\n",
    "    ]\n",
    "\n",
    "    for elements in tests:\n",
    "        quick_sort(elements, 0, len(elements)-1)\n",
    "        print(f'sorted array: {elements}')"
   ]
  },
  {
   "cell_type": "markdown",
   "id": "ceb84dc6",
   "metadata": {},
   "source": [
    "## Insertion Sort\n",
    "- insertion sort uses an anchor and backtracks everything up to anchor usually swapping the values and inserting the anchor in the appropriate position"
   ]
  },
  {
   "cell_type": "code",
   "execution_count": 108,
   "id": "3e49de59",
   "metadata": {},
   "outputs": [
    {
     "name": "stdout",
     "output_type": "stream",
     "text": [
      "[2, 7, 9, 11, 15, 27, 28]\n"
     ]
    }
   ],
   "source": [
    "#Anchor point; while loop to check up to pointer\n",
    "# Then place the anchor value in location it sits after while loop conditions terminate\n",
    "def insertion_sort(arr):\n",
    "    for i in range(1,len(elements)):\n",
    "        pivot = elements[i]\n",
    "        j = i-1\n",
    "        while j >=0 and elements[j] > pivot:\n",
    "            elements[j+1] = elements[j]\n",
    "            j = j-1\n",
    "        elements[j+1] = pivot\n",
    "    return elements\n",
    "\n",
    "def median_insertion_sort(elements):\n",
    "    for i in \n",
    "        \n",
    "            \n",
    "if __name__ == \"__main__\":\n",
    "    elements = [11,9,27,7,2,15,28]\n",
    "    print(insertion_sort(elements))\n",
    "    "
   ]
  },
  {
   "cell_type": "markdown",
   "id": "d5fb095a",
   "metadata": {},
   "source": [
    "## Merge Sort\n",
    "- merge sort splits an array into halves until only one is left and then slowly joins them together based on which is greater or less"
   ]
  },
  {
   "cell_type": "code",
   "execution_count": 4,
   "id": "432edbed",
   "metadata": {},
   "outputs": [
    {
     "name": "stdout",
     "output_type": "stream",
     "text": [
      "[8, 8, 8, 8, 8, 23, 29, 29]\n"
     ]
    }
   ],
   "source": [
    "def merge_sort(arr):\n",
    "    if len(arr) <= 1:\n",
    "        return arr\n",
    "    \n",
    "    mid = len(arr)//2\n",
    "    left = arr[:mid]\n",
    "    right = arr[mid:]\n",
    "    \n",
    "    merge_sort(left)\n",
    "    merge_sort(right)\n",
    "    return merge_two_sorted_lists(left,right,arr)\n",
    "    \n",
    "def merge_two_sorted_lists(a,b,arr):\n",
    "    \n",
    "    len_a = len(a)\n",
    "    len_b = len(b)\n",
    "    i = j = k = 0\n",
    "    \n",
    "    while i < len_a and j < len_b:\n",
    "        if a[i] <= b[j]:\n",
    "            arr[k] = arr[i]\n",
    "            i += 1\n",
    "        else:\n",
    "            arr[k] = b[j]\n",
    "            j += 1\n",
    "        k += 1\n",
    "    while i < len_a:\n",
    "        arr[k] = arr[i]\n",
    "        i +=1\n",
    "        k += 1\n",
    "    while j < len_b:\n",
    "        arr[k] = b[j]\n",
    "        j +=1\n",
    "        k+=1\n",
    "    \n",
    "                    \n",
    "    \n",
    "if __name__ == \"__main__\":\n",
    "#     a = [5,8,12,56]\n",
    "#     b = [7,9,45,51]\n",
    "    arr = [10,3,15,7,8,23,98,29]\n",
    "    #print(merge_two_sorted_lists(a,b))\n",
    "    merge_sort(arr)\n",
    "    print(arr)"
   ]
  },
  {
   "cell_type": "code",
   "execution_count": 5,
   "id": "5c064da7",
   "metadata": {},
   "outputs": [
    {
     "name": "stdout",
     "output_type": "stream",
     "text": [
      "[3, 7, 8, 10, 15, 23, 29, 98]\n",
      "[]\n",
      "[3]\n",
      "[2, 7, 8, 9]\n",
      "[1, 2, 3, 4, 5]\n"
     ]
    }
   ],
   "source": [
    "def merge_sort(arr):\n",
    "    if len(arr) <= 1:\n",
    "        return\n",
    "\n",
    "    mid = len(arr)//2\n",
    "\n",
    "    left = arr[:mid]\n",
    "    right = arr[mid:]\n",
    "\n",
    "    merge_sort(left)\n",
    "    merge_sort(right)\n",
    "\n",
    "    merge_two_sorted_lists(left, right, arr)\n",
    "\n",
    "def merge_two_sorted_lists(a,b,arr):\n",
    "    len_a = len(a)\n",
    "    len_b = len(b)\n",
    "\n",
    "    i = j = k = 0\n",
    "\n",
    "    while i < len_a and j < len_b:\n",
    "        if a[i] <= b[j]:\n",
    "            arr[k] = a[i]\n",
    "            i+=1\n",
    "        else:\n",
    "            arr[k] = b[j]\n",
    "            j+=1\n",
    "        k+=1\n",
    "\n",
    "    while i < len_a:\n",
    "        arr[k] = a[i]\n",
    "        i+=1\n",
    "        k+=1\n",
    "\n",
    "    while j < len_b:\n",
    "        arr[k] = b[j]\n",
    "        j+=1\n",
    "        k+=1\n",
    "        \n",
    "        \n",
    "if __name__ == '__main__':\n",
    "    test_cases = [\n",
    "        [10, 3, 15, 7, 8, 23, 98, 29],\n",
    "        [],\n",
    "        [3],\n",
    "        [9,8,7,2],\n",
    "        [1,2,3,4,5]\n",
    "    ]\n",
    "\n",
    "    for arr in test_cases:\n",
    "        merge_sort(arr)\n",
    "        print(arr)"
   ]
  },
  {
   "cell_type": "code",
   "execution_count": 16,
   "id": "2ee5039f",
   "metadata": {},
   "outputs": [
    {
     "name": "stdout",
     "output_type": "stream",
     "text": [
      "[{'name': 'vedanth', 'age': 17, 'time_hours': 1}, {'name': 'chinmay', 'age': 24, 'time_hours': 1.5}, {'name': 'vignesh', 'age': 21, 'time_hours': 2.5}, {'name': 'rajab', 'age': 12, 'time_hours': 3}]\n"
     ]
    }
   ],
   "source": [
    "#Practice Challenge Mergesort\n",
    "\n",
    "def merge_sort(elements,key,descending=False):\n",
    "    \n",
    "    size = len(elements)\n",
    "    if size == 1:\n",
    "        return elements\n",
    "\n",
    "    left_list = merge_sort(elements[0:size//2],key,descending)\n",
    "    right_list = merge_sort(elements[size//2:],key,descending)\n",
    "    sorted_list = merge(left_list,right_list,key,descending)\n",
    "    \n",
    "    return sorted_list\n",
    "\n",
    "def merge(left_list,right_list,key,descending=False):\n",
    "    merged = []\n",
    "    \n",
    "    if descending:\n",
    "        while len(left_list) > 0 and len(right_list) > 0:\n",
    "            if a[0][key] >= b[0][key]:\n",
    "                merged.append(left_list.pop(0))\n",
    "            else:\n",
    "                merged.append(right_list.pop(0))\n",
    "    else:\n",
    "        while len(left_list) > 0 and len(right_list) > 0:\n",
    "            if left_list[0][key] <= right_list[0][key]:\n",
    "                merged.append(left_list.pop(0))\n",
    "            else:\n",
    "                merged.append(right_list.pop(0))\n",
    "\n",
    "    merged.extend(left_list)\n",
    "    merged.extend(right_list)\n",
    "    return merged\n",
    "\n",
    "if __name__ == \"__main__\":\n",
    "    elements = [\n",
    "        { 'name': 'vedanth',   'age': 17, 'time_hours': 1},\n",
    "        { 'name': 'rajab', 'age': 12,  'time_hours': 3},\n",
    "        { 'name': 'vignesh',  'age': 21,  'time_hours': 2.5},\n",
    "        { 'name': 'chinmay',  'age': 24,  'time_hours': 1.5},\n",
    "    ]\n",
    "    \n",
    "    print(merge_sort(elements,key='time_hours'))"
   ]
  },
  {
   "cell_type": "markdown",
   "id": "7e6cad81",
   "metadata": {},
   "source": [
    "## Shell Sorting\n",
    "- use the concept of a gap to form subarrays; consequently sorting the subarrays\n",
    "- reduce the gap on iterating until reaches 1; when gap 1 it's insertion sort (e.g start at n/2 keep reducing by n/2 common method)"
   ]
  },
  {
   "cell_type": "code",
   "execution_count": 25,
   "id": "0ab68643",
   "metadata": {},
   "outputs": [
    {
     "name": "stdout",
     "output_type": "stream",
     "text": [
      "[4, 9, 11, 17, 21, 25, 29, 32, 38]\n"
     ]
    }
   ],
   "source": [
    "def shell_sort(elements):\n",
    "    size = len(elements)\n",
    "    gap = size // 2\n",
    "    \n",
    "    while gap > 0:\n",
    "        for i in range(gap,size):\n",
    "            anchor = elements[i]\n",
    "            j = i\n",
    "\n",
    "            while j >=gap and elements[j-gap] > anchor:\n",
    "                elements[j] = elements[j-gap]\n",
    "                j -= gap\n",
    "            elements[j] = anchor\n",
    "        gap = gap // 2\n",
    "    return elements\n",
    "        \n",
    "    \n",
    "if __name__ == \"__main__\":\n",
    "    elements = [21,38,29,17,4,25,11,32,9]\n",
    "    shell_sort(elements)\n",
    "    print(elements)"
   ]
  },
  {
   "cell_type": "code",
   "execution_count": null,
   "id": "5f084fad",
   "metadata": {},
   "outputs": [],
   "source": [
    "#Exercise sort the elements w/ shell sort\n",
    "def shell_sort(elements):\n",
    "    size = len(elements)\n",
    "    gap = size // 2\n",
    "    \n",
    "    while gap > 0:\n",
    "        for i in range(gap,size):\n",
    "            anchor = elements[i]\n",
    "            j = i\n",
    "\n",
    "            while j >=gap and elements[j-gap] > anchor:\n",
    "                elements[j] = elements[j-gap]\n",
    "                j -= gap\n",
    "            elements[j] = anchor\n",
    "        gap = gap // 2\n",
    "    return elements\n",
    "        \n",
    "    \n",
    "if __name__ == \"__main__\":\n",
    "    elements = [21,38,29,17,4,25,11,32,9]\n",
    "    shell_sort(elements)\n",
    "    print(elements)"
   ]
  },
  {
   "cell_type": "markdown",
   "id": "f54cb8a4",
   "metadata": {},
   "source": [
    "## Selection Sorting \n",
    "- nested loop swapping ith element with min of jth nested loop"
   ]
  },
  {
   "cell_type": "code",
   "execution_count": 32,
   "id": "12b55797",
   "metadata": {},
   "outputs": [
    {
     "name": "stdout",
     "output_type": "stream",
     "text": [
      "[4, 9, 11, 17, 21, 25, 29, 32, 38]\n"
     ]
    }
   ],
   "source": [
    "def selection_sort(arr):\n",
    "    \n",
    "    for i in range(len(arr)-1):\n",
    "        min_index = i\n",
    "        for j in range(min_index+1,len(arr)):\n",
    "            if arr[j] < arr[min_index]:\n",
    "                min_index = j\n",
    "        # mititage needless swapping\n",
    "        if min_index != i:\n",
    "            arr[i], arr[min_index] = arr[min_index], arr[i]\n",
    "            \n",
    "                \n",
    "                \n",
    "\n",
    "if __name__ == \"__main__\":\n",
    "    elements = [21,38,29,17,4,25,11,32,9]\n",
    "    selection_sort(elements)\n",
    "    print(elements)"
   ]
  },
  {
   "cell_type": "code",
   "execution_count": null,
   "id": "abcb6509",
   "metadata": {},
   "outputs": [],
   "source": []
  }
 ],
 "metadata": {
  "kernelspec": {
   "display_name": "Python 3 (ipykernel)",
   "language": "python",
   "name": "python3"
  },
  "language_info": {
   "codemirror_mode": {
    "name": "ipython",
    "version": 3
   },
   "file_extension": ".py",
   "mimetype": "text/x-python",
   "name": "python",
   "nbconvert_exporter": "python",
   "pygments_lexer": "ipython3",
   "version": "3.9.12"
  }
 },
 "nbformat": 4,
 "nbformat_minor": 5
}
