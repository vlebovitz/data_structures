{
 "cells": [
  {
   "cell_type": "code",
   "execution_count": 13,
   "id": "4ddad1d3",
   "metadata": {},
   "outputs": [
    {
     "name": "stdout",
     "output_type": "stream",
     "text": [
      "{'A': ['B'], 'B': ['A']}\n",
      "{'A': [], 'B': []}\n",
      "{'B': []}\n"
     ]
    }
   ],
   "source": [
    "class Graph:\n",
    "    def __init__(self):\n",
    "        self.adj_list = {}\n",
    "    def add_vertex(self,vertex):\n",
    "        if vertex not in self.adj_list.keys():\n",
    "            self.adj_list[vertex] = []\n",
    "            return True\n",
    "        return False\n",
    "    def add_edge(self,v1,v2):\n",
    "        if v1 and v2 in self.adj_list.keys():\n",
    "            self.adj_list[v1].append(v2)\n",
    "            self.adj_list[v2].append(v1)\n",
    "        else:\n",
    "            print(\"Vertex must exist!\")\n",
    "            return False\n",
    "        return True\n",
    "    def remove_edge(self,v1,v2):\n",
    "        if v2 and v1 in self.adj_list.keys():\n",
    "            self.adj_list[v1].remove(v2)\n",
    "            self.adj_list[v2].remove(v1)\n",
    "            return True\n",
    "        return False\n",
    "    def remove_vertex(self,vertex):\n",
    "        #efficient method for bi-directional graph removal of vertex\n",
    "        if vertex in self.adj_list.keys():\n",
    "            for other_vertex in self.adj_list[vertex]:\n",
    "                self.adj_list[other_vertex].remove(vertex)\n",
    "            del self.adj_list[vertex]\n",
    "            \n",
    "                    \n",
    "        \n",
    "        \n",
    "            \n",
    "        \n",
    "    \n",
    "my_graph = Graph()\n",
    "my_graph.add_vertex('A')\n",
    "my_graph.add_vertex('B')\n",
    "my_graph.add_edge('A','B')\n",
    "print(my_graph.adj_list)\n",
    "my_graph.remove_edge('A','B')\n",
    "print(my_graph.adj_list)\n",
    "my_graph.remove_vertex('A')\n",
    "print(my_graph.adj_list)"
   ]
  },
  {
   "cell_type": "code",
   "execution_count": 9,
   "id": "25a82c0d",
   "metadata": {},
   "outputs": [],
   "source": [
    "dictionary = {\"name\": [\"Vine\",\"Pablo\",\"Ben\"],\"age\": [12,13,14]}\n",
    "\n",
    "for key,values in dictionary.items():\n",
    "    if values == 'Ben':\n",
    "        print(\"Value Found!\")\n"
   ]
  },
  {
   "cell_type": "code",
   "execution_count": 10,
   "id": "e3428ea7",
   "metadata": {},
   "outputs": [
    {
     "name": "stdout",
     "output_type": "stream",
     "text": [
      "12\n",
      "13\n",
      "14\n"
     ]
    }
   ],
   "source": [
    "for values in dictionary['age']:\n",
    "    print(values)"
   ]
  },
  {
   "cell_type": "code",
   "execution_count": null,
   "id": "df569458",
   "metadata": {},
   "outputs": [],
   "source": []
  }
 ],
 "metadata": {
  "kernelspec": {
   "display_name": "Python 3 (ipykernel)",
   "language": "python",
   "name": "python3"
  },
  "language_info": {
   "codemirror_mode": {
    "name": "ipython",
    "version": 3
   },
   "file_extension": ".py",
   "mimetype": "text/x-python",
   "name": "python",
   "nbconvert_exporter": "python",
   "pygments_lexer": "ipython3",
   "version": "3.9.12"
  }
 },
 "nbformat": 4,
 "nbformat_minor": 5
}
