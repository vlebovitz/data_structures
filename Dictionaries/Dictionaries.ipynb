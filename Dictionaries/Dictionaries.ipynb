{
 "cells": [
  {
   "cell_type": "markdown",
   "id": "588f1cdd",
   "metadata": {},
   "source": [
    "# Dictionary Review "
   ]
  },
  {
   "cell_type": "code",
   "execution_count": 6,
   "id": "47f6fef4",
   "metadata": {},
   "outputs": [
    {
     "name": "stdout",
     "output_type": "stream",
     "text": [
      "name Edy\n",
      "age 26\n",
      "address London\n"
     ]
    }
   ],
   "source": [
    "#Key value lookups using a hash function to calculate the index\n",
    "myDict = {'name': 'Edy','age': 26, 'address': 'London'}\n",
    "\n",
    "#clear\n",
    "#myDict.clear()\n",
    "\n",
    "#copy\n",
    "#new_dict = myDict.copy()\n",
    "\n",
    "#fromkeys\n",
    "new_dict = {}.fromkeys([1,2,3],0)\n",
    "#print(new_dict)\n",
    "\n",
    "#get\n",
    "myDict.get('age',27)\n",
    "\n",
    "#items\n",
    "for key,val in myDict.items():\n",
    "    print(key,val)"
   ]
  },
  {
   "cell_type": "code",
   "execution_count": 8,
   "id": "841a0ec8",
   "metadata": {},
   "outputs": [
    {
     "name": "stdout",
     "output_type": "stream",
     "text": [
      "{'Paris': 30, 'London': 21, 'Rome': 28, 'Berlin': 26}\n",
      "{'Paris': 30, 'Rome': 28, 'Berlin': 26}\n"
     ]
    }
   ],
   "source": [
    "#Dictionary Comprehension\n",
    "import random\n",
    "city_names = ['Paris','London','Rome','Berlin']\n",
    "\n",
    "city_temps = {city:random.randint(20,30) for city in city_names}\n",
    "print(city_temps)\n",
    "\n",
    "new_dict = {key:value for key,value in city_temps.items() if value > 25}\n",
    "print(new_dict)\n"
   ]
  },
  {
   "cell_type": "code",
   "execution_count": 10,
   "id": "bc53521a",
   "metadata": {},
   "outputs": [
    {
     "name": "stdout",
     "output_type": "stream",
     "text": [
      "{'apple': 2, 'banana': 1}\n"
     ]
    }
   ],
   "source": [
    "def count_word_frequency(words):\n",
    "    \n",
    "    hash_map  = {}\n",
    "    for word in words:\n",
    "        hash_map[word] = 1 + hash_map.get(word,0)\n",
    "    return hash_map\n",
    "\n",
    "print(count_word_frequency(['apple','banana','apple']))\n",
    "    "
   ]
  },
  {
   "cell_type": "code",
   "execution_count": 12,
   "id": "c1161029",
   "metadata": {},
   "outputs": [
    {
     "name": "stdout",
     "output_type": "stream",
     "text": [
      "26\n"
     ]
    }
   ],
   "source": [
    "myDict = {'name': 2,'age': 26, 'address': 12}\n",
    "max_num = 0\n",
    "for val in myDict.values():\n",
    "    max_num = max(max_num,val)\n",
    "print(max_num)"
   ]
  },
  {
   "cell_type": "code",
   "execution_count": null,
   "id": "2f8516eb",
   "metadata": {},
   "outputs": [],
   "source": []
  }
 ],
 "metadata": {
  "kernelspec": {
   "display_name": "Python 3 (ipykernel)",
   "language": "python",
   "name": "python3"
  },
  "language_info": {
   "codemirror_mode": {
    "name": "ipython",
    "version": 3
   },
   "file_extension": ".py",
   "mimetype": "text/x-python",
   "name": "python",
   "nbconvert_exporter": "python",
   "pygments_lexer": "ipython3",
   "version": "3.9.12"
  }
 },
 "nbformat": 4,
 "nbformat_minor": 5
}
