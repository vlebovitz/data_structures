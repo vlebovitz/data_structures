{
 "cells": [
  {
   "cell_type": "code",
   "execution_count": 8,
   "id": "aefe3e69",
   "metadata": {},
   "outputs": [
    {
     "name": "stdout",
     "output_type": "stream",
     "text": [
      "24\n"
     ]
    }
   ],
   "source": [
    "def factorial(n):\n",
    "    if n<=1:\n",
    "        return 1\n",
    "    return n*factorial(n-1)\n",
    "\n",
    "print(factorial(4))"
   ]
  },
  {
   "cell_type": "code",
   "execution_count": 19,
   "id": "0201d0ac",
   "metadata": {},
   "outputs": [
    {
     "data": {
      "text/plain": [
       "16"
      ]
     },
     "execution_count": 19,
     "metadata": {},
     "output_type": "execute_result"
    }
   ],
   "source": [
    "class Node:\n",
    "    def __init__(self,value):\n",
    "        self.value = value\n",
    "        self.left = self.right = None\n",
    "class BST:\n",
    "    def __init__(self):\n",
    "        self.root = None\n",
    "    def insert(self,value):\n",
    "        new_node = Node(value)\n",
    "        if self.root is None:\n",
    "            self.root = new_node\n",
    "            return\n",
    "        curr = self.root\n",
    "        while True:\n",
    "            if value < curr.value:\n",
    "                if curr.left is None:\n",
    "                    curr.left = new_node\n",
    "                    return\n",
    "                else:\n",
    "                    curr = curr.left\n",
    "            if value > curr.value:\n",
    "                if curr.right is None:\n",
    "                    curr.right = new_node\n",
    "                    return\n",
    "                else:\n",
    "                    curr = curr.right\n",
    "                    \n",
    "\n",
    "bst = BST()\n",
    "bst.insert(22)\n",
    "bst.insert(12)\n",
    "bst.insert(16)\n",
    "bst.root.left.right.value"
   ]
  },
  {
   "cell_type": "code",
   "execution_count": null,
   "id": "baa0ab86",
   "metadata": {},
   "outputs": [],
   "source": []
  }
 ],
 "metadata": {
  "kernelspec": {
   "display_name": "Python 3 (ipykernel)",
   "language": "python",
   "name": "python3"
  },
  "language_info": {
   "codemirror_mode": {
    "name": "ipython",
    "version": 3
   },
   "file_extension": ".py",
   "mimetype": "text/x-python",
   "name": "python",
   "nbconvert_exporter": "python",
   "pygments_lexer": "ipython3",
   "version": "3.9.12"
  }
 },
 "nbformat": 4,
 "nbformat_minor": 5
}
