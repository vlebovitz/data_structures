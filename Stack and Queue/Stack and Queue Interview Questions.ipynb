{
 "cells": [
  {
   "cell_type": "markdown",
   "id": "65e124ca",
   "metadata": {},
   "source": [
    "Interview Question #1: Three In One\n",
    " - Single Python List to Implement Three Stacks"
   ]
  },
  {
   "cell_type": "code",
   "execution_count": 6,
   "id": "880af9e8",
   "metadata": {},
   "outputs": [],
   "source": [
    "class MultiStack:\n",
    "    def __init__(self,stacksize):\n",
    "        self.numberstacks = 3\n",
    "        self.stacksize = stacksize\n",
    "        self.custlist = [0] * (stacksize * self.numberstacks)\n",
    "        self.sizes = [0] * self.numberstacks\n",
    "        \n",
    "    def isFull(self, stacknum):\n",
    "        if self.sizes[stacknum] == self.stacksize:\n",
    "            return True\n",
    "        return False\n",
    "    \n",
    "    def isEmpty(self, stacknum):\n",
    "        if self.sizes[stacknum] == 0:\n",
    "            return True\n",
    "        return False\n",
    "    \n",
    "    def indexOfTop(self,stacknum):\n",
    "        offset = stacknum * self.stacksize\n",
    "        return offset + self.sizes[stacknum]-1\n",
    "    \n",
    "    def push(self, item,stacknum):\n",
    "        if self.isFull(stacknum):\n",
    "            return \"Stack is Full\"\n",
    "        else:\n",
    "            self.sizes[stacknum] += 1\n",
    "            self.custlist[self.indexOfTop(stacknum)] = item\n",
    "    \n",
    "    def pop(self,stacknum):\n",
    "        if self.isEmpty(stacknum):\n",
    "            return \"The Stack is Empty\"\n",
    "        else:\n",
    "            value = self.custlist[self.indexOfTop(stacknum)]\n",
    "            self.custlist[self.indexOfTop(stacknum)] = 0\n",
    "            self.sizes[stacknum] -= 1\n",
    "            return value\n",
    "    \n",
    "    def peek(self,stacknum):\n",
    "        if self.isEmpty(stacknum):\n",
    "            return \"The Stack is Empty\"\n",
    "        else:\n",
    "            value = self.custlist[self.indexOfTop(stacknum)]\n",
    "            return value\n",
    "        \n",
    "            \n",
    "        "
   ]
  },
  {
   "cell_type": "code",
   "execution_count": 8,
   "id": "442475f4",
   "metadata": {},
   "outputs": [
    {
     "name": "stdout",
     "output_type": "stream",
     "text": [
      "False\n",
      "True\n",
      "The Stack is Empty\n",
      "2\n"
     ]
    }
   ],
   "source": [
    "customStack = MultiStack(6)\n",
    "print(customStack.isFull(0))\n",
    "print(customStack.isEmpty(1))\n",
    "customStack.push(1,0)\n",
    "customStack.push(2,0)\n",
    "customStack.push(3,2)\n",
    "print(customStack.peek(1))\n",
    "print(customStack.peek(0))"
   ]
  },
  {
   "cell_type": "markdown",
   "id": "9880e39f",
   "metadata": {},
   "source": [
    "Interview Question #2: Stack Min\n",
    " - Design A Stack which has a function min to return the min element"
   ]
  },
  {
   "cell_type": "code",
   "execution_count": 9,
   "id": "0ee50219",
   "metadata": {},
   "outputs": [],
   "source": [
    "class Node:\n",
    "    def __init__(self,value=None, next=None):\n",
    "        self.value = value\n",
    "        self.next = next\n",
    "    \n",
    "    def __str__(self):\n",
    "        string = str(self.value)\n",
    "        if self.next:\n",
    "            string += \",\" + str(self.next)\n",
    "        return string\n",
    "class Stack:\n",
    "    def __init__(self):\n",
    "        self.top = None\n",
    "        self.minNode = None\n",
    "    \n",
    "    def min(self):\n",
    "        if not self.minNode:\n",
    "            return None\n",
    "        return self.minNode.value\n",
    "    \n",
    "    def push(self,item):\n",
    "        if self.minNode and (self.minNode.value < item):\n",
    "            self.minNode = Node(value = self.minNode.value, next=self.minNode)\n",
    "        else:\n",
    "            self.minNode = Node(value = item, next=self.minNode)\n",
    "        self.top = Node(value=item, next=self.top)\n",
    "    \n",
    "    def pop(self):\n",
    "        if not self.top:\n",
    "            return None\n",
    "        self.minNode = self.minNode.next\n",
    "        item = self.top.value\n",
    "        self.top = self.top.next\n",
    "        return item"
   ]
  },
  {
   "cell_type": "code",
   "execution_count": 15,
   "id": "3988f4a2",
   "metadata": {},
   "outputs": [
    {
     "name": "stdout",
     "output_type": "stream",
     "text": [
      "4\n",
      "3\n",
      "4\n"
     ]
    }
   ],
   "source": [
    "customStack = Stack()\n",
    "customStack.push(4)\n",
    "print(customStack.min())\n",
    "customStack.push(3)\n",
    "print(customStack.min())\n",
    "customStack.pop()\n",
    "print(customStack.min())\n"
   ]
  },
  {
   "cell_type": "markdown",
   "id": "c6c9c2fd",
   "metadata": {},
   "source": [
    "Interview Question #3: Stack of Plates\n",
    "   - Start a new stack of plates when previous exceeds threshold\n",
    "   - Implement a Data Struicture SetOfStacks which mimics this\n",
    "   - Should be composed of several stacks and create new stack once previous exceeds capacity"
   ]
  },
  {
   "cell_type": "code",
   "execution_count": 20,
   "id": "dd016468",
   "metadata": {},
   "outputs": [],
   "source": [
    "class PlateStack():\n",
    "    def __init__(self, capacity):\n",
    "        self.capacity = capacity\n",
    "        self.stacks = []\n",
    "    \n",
    "    def __str__(self):\n",
    "        return self.stacks\n",
    "    \n",
    "    def push(self,item):\n",
    "        if len(self.stacks) > 0 and (len(self.stacks[-1])) < self.capacity:\n",
    "            self.stacks[-1].append(item)\n",
    "        else:\n",
    "            self.stacks.append([item])\n",
    "    \n",
    "    def pop(self):\n",
    "        while len(self.stacks) and len(self.stacks[-1]) == 0:\n",
    "            self.stacks.pop()\n",
    "        if len(self.stacks) == 0:\n",
    "            return None\n",
    "        else:\n",
    "            return self.stacks[-1].pop()\n",
    "    \n",
    "    def pop_at(self, stackNumber):\n",
    "        if len(self.stacks[stackNumber]) > 0:\n",
    "            return self.stacks[stackNumber].pop()\n",
    "        else:\n",
    "            return None"
   ]
  },
  {
   "cell_type": "code",
   "execution_count": 22,
   "id": "78f59537",
   "metadata": {},
   "outputs": [
    {
     "name": "stdout",
     "output_type": "stream",
     "text": [
      "2\n"
     ]
    }
   ],
   "source": [
    "customStack = PlateStack(2)\n",
    "customStack.push(1)\n",
    "customStack.push(2)\n",
    "customStack.push(3)\n",
    "print(customStack.pop_at(0))"
   ]
  },
  {
   "cell_type": "markdown",
   "id": "c9cc9c8e",
   "metadata": {},
   "source": [
    "Interview Question #4: Animal Shelter\n",
    "- Must adopt the \"oldest\" (based on arrival time) of all animals of shelter\n",
    "- Or they can select whether they would prefer a dog or a cat and receive the oldest (based on arrival time)\n",
    "- Queue Based Data Structure\n",
    "- e.g Enqueue(Dog) / DequeueAny() / DequeueDog() / DequeueCat()"
   ]
  },
  {
   "cell_type": "code",
   "execution_count": null,
   "id": "2145a743",
   "metadata": {},
   "outputs": [],
   "source": [
    "class AnimalShelter:\n",
    "    def __init__(self):\n",
    "        self.dogs = []\n",
    "        self.cats = []\n",
    "    \n",
    "    def enqueue(self, animal, kind):\n",
    "        if kind=='cat':\n",
    "            self.cats.append(animal)\n",
    "        else:\n",
    "            self.dogs.append(animal)\n",
    "    \n",
    "    def dequeueCat(self):\n",
    "        if self.cats == []:\n",
    "            return \"No Cats Available\"\n",
    "        cat = self.cats.pop(0)\n",
    "        return cat\n",
    "    \n",
    "    def dequeueDog(self):\n",
    "        if self.dogs == []:\n",
    "            return \"No Dogs Available\"\n",
    "        dog = self.dogs.pop(0)\n",
    "        return dog\n",
    "    \n",
    "    def dequeueAny(self):\n",
    "        if len(self.cats) == 0:\n",
    "            result = self.cats.pop(0)\n",
    "        else:\n",
    "            result = self.dogs.pop(0)\n",
    "        return result\n",
    "        \n",
    "    "
   ]
  }
 ],
 "metadata": {
  "kernelspec": {
   "display_name": "Python 3 (ipykernel)",
   "language": "python",
   "name": "python3"
  },
  "language_info": {
   "codemirror_mode": {
    "name": "ipython",
    "version": 3
   },
   "file_extension": ".py",
   "mimetype": "text/x-python",
   "name": "python",
   "nbconvert_exporter": "python",
   "pygments_lexer": "ipython3",
   "version": "3.9.12"
  }
 },
 "nbformat": 4,
 "nbformat_minor": 5
}
