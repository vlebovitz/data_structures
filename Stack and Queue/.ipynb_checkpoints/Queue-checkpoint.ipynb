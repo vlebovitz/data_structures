{
 "cells": [
  {
   "cell_type": "code",
   "execution_count": 1,
   "id": "a190f345",
   "metadata": {},
   "outputs": [],
   "source": [
    "#Standard  Queue\n",
    "class Queue:\n",
    "    def __init__(self):\n",
    "        self.items = []\n",
    "    def __str__(self):\n",
    "        values = [str(x) for x in self.items]\n",
    "        return ' '.join(values)\n",
    "    \n",
    "    def isEmpty(self):\n",
    "        if self.items == []:\n",
    "            return True\n",
    "        return False\n",
    "    \n",
    "    def enqueue(self,value):\n",
    "        self.items.append(value)\n",
    "    \n",
    "    def dequeue(self):\n",
    "        if self.isEmpty():\n",
    "            return \"Nothing to Dequeue\"\n",
    "        return self.items.pop(0)\n",
    "    \n",
    "    def peek(self):\n",
    "        if self.isEmpty():\n",
    "            return \"Nothing To Peek\"\n",
    "        return self.items.pop(0)\n",
    "    \n",
    "    def delete(self):\n",
    "        self.items = None\n"
   ]
  },
  {
   "cell_type": "code",
   "execution_count": 6,
   "id": "66d94653",
   "metadata": {},
   "outputs": [
    {
     "name": "stdout",
     "output_type": "stream",
     "text": [
      "12 15 118\n",
      "15\n",
      "118\n"
     ]
    }
   ],
   "source": [
    "s1 = Queue()\n",
    "s1.enqueue(12)\n",
    "s1.enqueue(15)\n",
    "s1.enqueue(118)\n",
    "print(s1)\n",
    "s1.dequeue()\n",
    "print(s1.peek())\n",
    "print(s1)"
   ]
  },
  {
   "cell_type": "code",
   "execution_count": 22,
   "id": "d8a469f2",
   "metadata": {},
   "outputs": [],
   "source": [
    "#Circular Queue\n",
    "class CircularQueue:\n",
    "    def __init__(self,maxSize):\n",
    "        self.items = maxSize * [None]\n",
    "        self.maxSize = maxSize\n",
    "        self.start = self.top = -1\n",
    "    def __str__(self):\n",
    "        values = [str(x) for x in self.items]\n",
    "        return ' '.join(values)\n",
    "    \n",
    "    def isFull(self):\n",
    "        if self.top + 1 == self.start:\n",
    "            return True\n",
    "        elif self.start == 0 and self.top + 1 == self.maxSize:\n",
    "            return True\n",
    "        else:\n",
    "            return False\n",
    "    \n",
    "    def isEmpty(self):\n",
    "        if self.top == -1:\n",
    "            return True\n",
    "        else:\n",
    "            return False\n",
    "    \n",
    "    def enqueue(self,value):\n",
    "        if self.isFull():\n",
    "            return \"The Queue is Full\"\n",
    "        else:\n",
    "            if self.top + 1 == self.maxSize:\n",
    "                self.top = 0\n",
    "            else:\n",
    "                self.top += 1\n",
    "                if self.start == -1:\n",
    "                    self.start = 0\n",
    "            self.items[self.top] = value\n",
    "            return \"Element Inserted at End of Queue\"\n",
    "    \n",
    "    def dequeue(self):\n",
    "        if self.isEmpty():\n",
    "            return \"Queue is Empty\"\n",
    "        else:\n",
    "            firstElement = self.items[self.start]\n",
    "            start = self.start\n",
    "            if self.start == self.top:\n",
    "                self.start = -1\n",
    "                self.top = -1\n",
    "            elif self.start + 1 == self.maxSize:\n",
    "                self.start = 0\n",
    "            else:\n",
    "                self.start += 1\n",
    "            self.items[start] = None\n",
    "            return firstElement\n",
    "    \n",
    "    def peek(self):\n",
    "        if self.isEmpty():\n",
    "            return \"Nothing To Peek\"\n",
    "        else:\n",
    "            return self.items[self.start]\n",
    "    \n",
    "    def delete(self):\n",
    "        self.items = self.maxSize * [None]\n",
    "        self.start = self.top = -1\n"
   ]
  },
  {
   "cell_type": "code",
   "execution_count": 23,
   "id": "133ed0df",
   "metadata": {},
   "outputs": [
    {
     "name": "stdout",
     "output_type": "stream",
     "text": [
      "4 8 5\n",
      "None None 5\n",
      "5\n",
      "None None None\n"
     ]
    }
   ],
   "source": [
    "q1 = CircularQueue(3)\n",
    "q1.enqueue(4)\n",
    "q1.enqueue(8)\n",
    "q1.enqueue(5)\n",
    "print(q1)\n",
    "q1.dequeue()\n",
    "q1.dequeue()\n",
    "print(q1)\n",
    "print(q1.peek())\n",
    "q1.delete()\n",
    "print(q1)"
   ]
  },
  {
   "cell_type": "code",
   "execution_count": 13,
   "id": "6013dfda",
   "metadata": {},
   "outputs": [],
   "source": [
    "#Queue - Linked List\n",
    "class Node:\n",
    "    def __init__(self,value,next=None):\n",
    "        self.value = value\n",
    "        self.next = next\n",
    "    def __str__(self):\n",
    "        return str(self.value)\n",
    "    \n",
    "class LinkedList:\n",
    "    def __init__(self):\n",
    "        self.head = self.tail = None\n",
    "    \n",
    "    def __iter__(self):\n",
    "        curNode = self.head\n",
    "        while curNode:\n",
    "            yield curNode\n",
    "            curNode = curNode.next\n",
    "            \n",
    "class CustomQueue:\n",
    "    def __init__(self):\n",
    "        self.linkedlist = LinkedList()\n",
    "    \n",
    "    def __str__(self):\n",
    "        values = [str(x) for x in self.linkedlist]\n",
    "        return ' '.join(values)\n",
    "    \n",
    "    def enqueue(self,value):\n",
    "        new_node = Node(value)\n",
    "        if self.linkedlist.head is None:\n",
    "            self.linkedlist.head = self.linkedlist.tail = new_node\n",
    "            return\n",
    "        self.linkedlist.tail.next = new_node\n",
    "        self.linkedlist.tail = new_node\n",
    "    \n",
    "    def isEmpty(self):\n",
    "        if self.linkedlist.head == None:\n",
    "            return True\n",
    "        return False\n",
    "    \n",
    "    def peek(self):\n",
    "        if self.isEmpty():\n",
    "            return \"Nothing To See\"\n",
    "        else:\n",
    "            return self.linkedlist.head\n",
    "    \n",
    "    def dequeue(self):\n",
    "        if self.isEmpty():\n",
    "            return \"Nothing To Dequeue\"\n",
    "        else:\n",
    "            curr = self.linkedlist.head\n",
    "            if self.linkedlist.head == self.linkedlist.tail:\n",
    "                self.linkedlist.head = self.linkedlist.tail = None\n",
    "            else:\n",
    "                self.linkedlist.head = self.linkedlist.head.next\n",
    "            return curr\n",
    "    \n",
    "    def delete(self):\n",
    "        self.linkedlist.head = self.linkedlist.tail = None\n",
    "        \n",
    "        \n",
    "        "
   ]
  },
  {
   "cell_type": "code",
   "execution_count": 12,
   "id": "7d4999b7",
   "metadata": {},
   "outputs": [
    {
     "name": "stdout",
     "output_type": "stream",
     "text": [
      "\n",
      "18 15 13 16\n"
     ]
    }
   ],
   "source": [
    "q1 = CustomQueue()\n",
    "q1.enqueue(12)\n",
    "q1.dequeue()\n",
    "print(q1)\n",
    "q1.enqueue(18)\n",
    "q1.enqueue(15)\n",
    "q1.enqueue(13)\n",
    "q1.enqueue(16)\n",
    "print(q1)"
   ]
  },
  {
   "cell_type": "code",
   "execution_count": 6,
   "id": "4d3c8c77",
   "metadata": {},
   "outputs": [
    {
     "name": "stdout",
     "output_type": "stream",
     "text": [
      "deque([4, 8, 3], maxlen=3)\n",
      "deque([8, 3], maxlen=3)\n",
      "deque([], maxlen=3)\n"
     ]
    }
   ],
   "source": [
    "#Python Collections Module\n",
    "from collections import deque\n",
    "\n",
    "customQueue = deque(maxlen=3)\n",
    "customQueue.append(4)\n",
    "customQueue.append(8)\n",
    "customQueue.append(3)\n",
    "print(customQueue)\n",
    "customQueue.popleft()\n",
    "print(customQueue)\n",
    "customQueue.clear()\n",
    "print(customQueue)\n"
   ]
  },
  {
   "cell_type": "code",
   "execution_count": 10,
   "id": "d96c53e7",
   "metadata": {},
   "outputs": [
    {
     "name": "stdout",
     "output_type": "stream",
     "text": [
      "0\n",
      "3\n",
      "True\n",
      "1\n",
      "2\n"
     ]
    }
   ],
   "source": [
    "#Python Queue Module - Important for Threading\n",
    "import queue as q\n",
    "\n",
    "customQueue = q.Queue(maxsize=3)\n",
    "print(customQueue.qsize())\n",
    "#Place Items in Queue\n",
    "customQueue.put(1)\n",
    "customQueue.put(4)\n",
    "customQueue.put(5)\n",
    "#Return the Size\n",
    "print(customQueue.qsize())\n",
    "#Check if Empty\n",
    "print(customQueue.full())\n",
    "#Pop the values from queue\n",
    "print(customQueue.get())\n",
    "print(customQueue.qsize())"
   ]
  },
  {
   "cell_type": "code",
   "execution_count": 11,
   "id": "2a49ff36",
   "metadata": {},
   "outputs": [
    {
     "name": "stdout",
     "output_type": "stream",
     "text": [
      "2\n"
     ]
    }
   ],
   "source": [
    "#Multiprocessing Module Queue - Sharing Data Between Processes\n",
    "from multiprocessing import Queue\n",
    "\n",
    "customQueue = Queue(maxsize=3)\n",
    "customQueue.put(2)\n",
    "customQueue.put(3)\n",
    "customQueue.put(4)\n",
    "print(customQueue.get())"
   ]
  },
  {
   "cell_type": "code",
   "execution_count": null,
   "id": "1753637a",
   "metadata": {},
   "outputs": [],
   "source": []
  }
 ],
 "metadata": {
  "kernelspec": {
   "display_name": "Python 3 (ipykernel)",
   "language": "python",
   "name": "python3"
  },
  "language_info": {
   "codemirror_mode": {
    "name": "ipython",
    "version": 3
   },
   "file_extension": ".py",
   "mimetype": "text/x-python",
   "name": "python",
   "nbconvert_exporter": "python",
   "pygments_lexer": "ipython3",
   "version": "3.9.12"
  }
 },
 "nbformat": 4,
 "nbformat_minor": 5
}
