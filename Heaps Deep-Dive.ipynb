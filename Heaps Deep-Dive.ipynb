{
 "cells": [
  {
   "cell_type": "code",
   "execution_count": 1,
   "id": "fd960a52",
   "metadata": {},
   "outputs": [],
   "source": [
    "#Heaps start with largest to smallest as you go from root to leaves\n",
    "# Can have a max or min heap\n",
    "#Stored in a list\n",
    "class MaxHeap:\n",
    "    def __init__(self):\n",
    "        self.heap = []\n",
    "    #Helper Methods\n",
    "    def _left_child(self,index):\n",
    "        return 2*index+1\n",
    "    def _right_child(self,index):\n",
    "        return 2*index+2\n",
    "    def _parent(self,index):\n",
    "        return (index-1) // 2\n",
    "    def _swap(self,index1,index2):\n",
    "        self.heap[index1], self.heap[index2] = self.heap[index2], self.heap[index1]\n",
    "    ## Insert Method\n",
    "    def insert(self,value):\n",
    "        self.heap.append(value)\n",
    "        current_index = len(self.heap)-1\n",
    "        \n",
    "        while current_index > 0 and self.heap[current_index] > self.heap[self._parent(current_index)]:\n",
    "            self._swap(current_index,self._parent(current_index))\n",
    "            current_index = self._parent(current_index)\n",
    "    ## Remove Method\n",
    "    def remove(self):\n",
    "        if len(self.heap) == 0:\n",
    "            return None\n",
    "        if len(self.heap) == 0:\n",
    "            return self.heap.pop()\n",
    "        #Gather the top value and assign it to the last\n",
    "        max_value = self.heap[0]\n",
    "        self.heap[0] = self.heap.pop()\n",
    "        #Sink the new value down to respective position\n",
    "        self._sink_down(0)\n",
    "        return max_value\n",
    "    ## Sink Down Method\n",
    "    def _sink_down(self,index):\n",
    "        max_index = index\n",
    "        while True:\n",
    "            left_index = self._left_child(index)\n",
    "            right_index = self._right_child(index)\n",
    "            if (left_index < len(self.heap) and self.heap[index] < self.heap[left_index]):\n",
    "                max_index = left_index\n",
    "            if (right_index < len(self.heap) and self.heap[right_index] > self.heap[max_index]):\n",
    "                max_index = right_index\n",
    "            \n",
    "            if max_index != index:\n",
    "                self._swap(index,max_index)\n",
    "                index = max_index\n",
    "            else:\n",
    "                return\n",
    "              \n",
    "    \n"
   ]
  },
  {
   "cell_type": "code",
   "execution_count": 2,
   "id": "9d409202",
   "metadata": {},
   "outputs": [
    {
     "name": "stdout",
     "output_type": "stream",
     "text": [
      "[13]\n",
      "[100, 13, 45]\n"
     ]
    }
   ],
   "source": [
    "mh = MaxHeap()\n",
    "mh.insert(13)\n",
    "print(mh.heap)\n",
    "mh.insert(45)\n",
    "mh.insert(100)\n",
    "print(mh.heap)"
   ]
  },
  {
   "cell_type": "code",
   "execution_count": 6,
   "id": "b5ed45fa",
   "metadata": {},
   "outputs": [
    {
     "name": "stdout",
     "output_type": "stream",
     "text": [
      "[3]\n",
      "[3, 2]\n",
      "[3, 2, 1]\n",
      "[2, 1]\n",
      "[5, 1, 2]\n",
      "[2, 1]\n",
      "[6, 1, 2]\n",
      "[2, 1]\n",
      "[4, 1, 2]\n",
      "[2, 1]\n",
      "2\n"
     ]
    }
   ],
   "source": [
    "def find_kth_smallest(nums,k):\n",
    "    mh = MaxHeap()\n",
    "    \n",
    "    for num in nums:\n",
    "        mh.insert(num)\n",
    "        if len(mh.heap) > k:\n",
    "            print(mh.heap)\n",
    "            mh.remove()\n",
    "        print(mh.heap)\n",
    "    return mh.remove()\n",
    "\n",
    "\n",
    "nums = [3,2,1,5,6,4]\n",
    "k=2\n",
    "print(find_kth_smallest(nums,k))"
   ]
  },
  {
   "cell_type": "code",
   "execution_count": null,
   "id": "256f5262",
   "metadata": {},
   "outputs": [],
   "source": []
  }
 ],
 "metadata": {
  "kernelspec": {
   "display_name": "Python 3 (ipykernel)",
   "language": "python",
   "name": "python3"
  },
  "language_info": {
   "codemirror_mode": {
    "name": "ipython",
    "version": 3
   },
   "file_extension": ".py",
   "mimetype": "text/x-python",
   "name": "python",
   "nbconvert_exporter": "python",
   "pygments_lexer": "ipython3",
   "version": "3.9.12"
  }
 },
 "nbformat": 4,
 "nbformat_minor": 5
}
